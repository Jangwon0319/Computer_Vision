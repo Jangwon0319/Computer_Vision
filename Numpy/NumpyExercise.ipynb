{
 "cells": [
  {
   "cell_type": "markdown",
   "metadata": {},
   "source": [
    "### NumPy의 0차원 배열\n",
    "- array() 함수에 1개의 값만 넣을 경우"
   ]
  },
  {
   "cell_type": "code",
   "execution_count": 5,
   "metadata": {},
   "outputs": [],
   "source": [
    "import numpy as np"
   ]
  },
  {
   "cell_type": "code",
   "execution_count": 6,
   "metadata": {},
   "outputs": [
    {
     "name": "stdout",
     "output_type": "stream",
     "text": [
      "3\n",
      "0\n",
      "()\n"
     ]
    }
   ],
   "source": [
    "nums = np.array(3)\n",
    "print(nums)\n",
    "print(nums.ndim)\n",
    "print(nums.shape)"
   ]
  },
  {
   "cell_type": "code",
   "execution_count": 7,
   "metadata": {},
   "outputs": [
    {
     "name": "stdout",
     "output_type": "stream",
     "text": [
      "[[1 4 2]\n",
      " [7 5 3]]\n",
      "2\n",
      "(2, 3)\n",
      "2\n",
      "6\n"
     ]
    }
   ],
   "source": [
    "nums = np.array([[1,4,2],[7,5,3]])\n",
    "print(nums)\n",
    "print(nums.ndim)\n",
    "print(nums.shape)\n",
    "print(len(nums.shape))\n",
    "print(nums.size)"
   ]
  },
  {
   "cell_type": "code",
   "execution_count": 16,
   "metadata": {},
   "outputs": [
    {
     "name": "stdout",
     "output_type": "stream",
     "text": [
      "5\n",
      "[7 5]\n",
      "[[2]\n",
      " [3]]\n",
      "[[1 4]\n",
      " [7 5]]\n"
     ]
    }
   ],
   "source": [
    "nums = np.array([[1,4,2], [7,5,3]])\n",
    "print(nums[1, 1])\n",
    "print(nums[1, :2])\n",
    "print(nums[0:, 2:])\n",
    "print(nums[0:, 0:2])"
   ]
  },
  {
   "cell_type": "markdown",
   "metadata": {},
   "source": [
    "### Numpy 0차원 배열\n"
   ]
  },
  {
   "cell_type": "code",
   "execution_count": 18,
   "metadata": {},
   "outputs": [
    {
     "name": "stdout",
     "output_type": "stream",
     "text": [
      "3\n",
      "0\n",
      "()\n"
     ]
    }
   ],
   "source": [
    "nums = np.array(3)\n",
    "print(nums)\n",
    "print(nums.ndim)\n",
    "print(nums.shape)"
   ]
  },
  {
   "cell_type": "markdown",
   "metadata": {},
   "source": [
    "### NumPy의 3차원 배열"
   ]
  },
  {
   "cell_type": "code",
   "execution_count": 8,
   "metadata": {},
   "outputs": [
    {
     "name": "stdout",
     "output_type": "stream",
     "text": [
      "[[[1 4 2]\n",
      "  [7 5 3]]\n",
      "\n",
      " [[0 4 8]\n",
      "  [6 9 1]]\n",
      "\n",
      " [[7 6 9]\n",
      "  [4 0 8]]]\n"
     ]
    }
   ],
   "source": [
    "import numpy as np\n",
    "nums = np.array([[[1,4,2], [7,5,3]],\n",
    "                [[0,4,8],[6,9,1]],\n",
    "                [[7,6,9],[4,0,8]]])\n",
    "print(nums)\n"
   ]
  },
  {
   "cell_type": "markdown",
   "metadata": {},
   "source": [
    "### NumPy의 내장 함수를 사용한 배열 생성\n",
    "- linspace(start, stop, num = ?, endpoint = ?, retstep = ?)\n",
    "    - start부터 stop까지 num으로 지정된 요소의 수만큼 배열생성"
   ]
  },
  {
   "cell_type": "code",
   "execution_count": 9,
   "metadata": {},
   "outputs": [
    {
     "name": "stdout",
     "output_type": "stream",
     "text": [
      "[0.   0.25 0.5  0.75 1.  ]\n",
      "[0.  0.2 0.4 0.6 0.8]\n",
      "(array([0. , 0.2, 0.4, 0.6, 0.8]), np.float64(0.2))\n"
     ]
    }
   ],
   "source": [
    "import numpy as np\n",
    "print(np.linspace(0,1,num=5,endpoint=True))\n",
    "print(np.linspace(0,1,num=5,endpoint=False))\n",
    "print(np.linspace(0,1,num=5,endpoint=False,retstep=True))"
   ]
  },
  {
   "cell_type": "markdown",
   "metadata": {},
   "source": [
    "### NumPy 배열의 연결 \n",
    "- vstack : 수직 방향 병합\n",
    "- hstack : 수평 방향 병합"
   ]
  },
  {
   "cell_type": "code",
   "execution_count": 10,
   "metadata": {},
   "outputs": [
    {
     "name": "stdout",
     "output_type": "stream",
     "text": [
      "[[9 8 7]\n",
      " [1 2 3]\n",
      " [4 5 6]]\n"
     ]
    }
   ],
   "source": [
    "import numpy as np\n",
    "\n",
    "x = np.array([9, 8, 7])\n",
    "grid = np.array([[1, 2, 3],\n",
    "                [4, 5, 6]])\n",
    "print(np.vstack([x, grid]))"
   ]
  },
  {
   "cell_type": "code",
   "execution_count": 11,
   "metadata": {},
   "outputs": [
    {
     "name": "stdout",
     "output_type": "stream",
     "text": [
      "[[9 1 2 3]\n",
      " [8 4 5 6]]\n"
     ]
    }
   ],
   "source": [
    "import numpy as np\n",
    "\n",
    "x = np.array([[9],\n",
    "              [8]])\n",
    "grid = np.array([[1, 2, 3],\n",
    "                [4, 5, 6]])\n",
    "print(np.hstack([x, grid]))"
   ]
  }
 ],
 "metadata": {
  "kernelspec": {
   "display_name": "Python 3",
   "language": "python",
   "name": "python3"
  },
  "language_info": {
   "codemirror_mode": {
    "name": "ipython",
    "version": 3
   },
   "file_extension": ".py",
   "mimetype": "text/x-python",
   "name": "python",
   "nbconvert_exporter": "python",
   "pygments_lexer": "ipython3",
   "version": "3.12.4"
  }
 },
 "nbformat": 4,
 "nbformat_minor": 2
}
